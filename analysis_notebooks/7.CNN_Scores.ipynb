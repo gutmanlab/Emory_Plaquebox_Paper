{
 "cells": [
  {
   "cell_type": "markdown",
   "metadata": {},
   "source": [
    "# 7. CNN Scores\n",
    "\n",
    "For each Emory case, count the blobs in each of the three confidence heatmaps following Tang's method (count all blobs in confidence heatmap, regardless of location).\n",
    "\n",
    "Tang provides the count for the blobs but not the scores (blob count * 1000 / tissue px area), add the scores for easier use."
   ]
  },
  {
   "cell_type": "code",
   "execution_count": null,
   "metadata": {},
   "outputs": [],
   "source": [
    "import sys\n",
    "sys.path.append('..')\n",
    "from modules import heatmap_analysis as ha\n",
    "import pandas as pd\n",
    "import numpy as np\n",
    "from scipy import stats\n",
    "from mpl_toolkits.axes_grid1 import make_axes_locatable\n",
    "from matplotlib.colors import LinearSegmentedColormap\n",
    "import girder_client\n",
    "import os\n",
    "from os.path import join as oj\n",
    "import pyvips as Vips\n",
    "import matplotlib.pyplot as plt\n",
    "from copy import deepcopy\n",
    "from PIL import Image, ImageDraw\n",
    "import cv2\n",
    "from skimage.transform import resize\n",
    "from tqdm import tqdm_notebook"
   ]
  },
  {
   "cell_type": "code",
   "execution_count": null,
   "metadata": {},
   "outputs": [],
   "source": [
    "# add scores column for Tang data\n",
    "csv_path = '../CSVs/CNN_vs_CREAD.csv'\n",
    "df = pd.read_csv(csv_path)\n",
    "\n",
    "df['tissue_cored_score'] = (df['CNN_cored_count'] * 1000 / df['Area']).tolist()\n",
    "df['tissue_diffuse_score'] = (df['CNN_diffuse_count'] * 1000 / df['Area']).tolist()\n",
    "df['tissue_caa_score'] = (df['CNN_caa_count'] * 1000 / df['Area']).tolist()\n",
    "df.to_csv(csv_path, index=False)\n",
    "df.head()"
   ]
  },
  {
   "cell_type": "code",
   "execution_count": null,
   "metadata": {},
   "outputs": [],
   "source": [
    "# Parameters\n",
    "confidence_thresholds = [0.1, 0.95, 0.9]\n",
    "pixel_thresholds = [100, 1, 200]\n",
    "heatmap_dir = '/mnt/Data/outputs/heatmaps_emory/'\n",
    "csv_path = '../CSVs/Emory_data.csv'\n",
    "df = pd.read_csv(csv_path)\n",
    "gm_mask_dir = '/mnt/Data/outputs/gm_masks/'\n",
    "save_dir = '/mnt/Data/outputs/blob_masks/'\n",
    "os.makedirs(save_dir, exist_ok=True)\n",
    "        \n",
    "blob_counts = [[], [], []]\n",
    "gm_blob_counts = [[], [], []]\n",
    "for i, r in tqdm_notebook(df.iterrows(), total=len(df)):\n",
    "    case = r['WSI_ID']\n",
    "    heatmap_path = oj(heatmap_dir, case + '.npy')\n",
    "    mask_path = oj(gm_mask_dir, case + '.png')\n",
    "    output = ha.count_blobs(heatmap_path, confidence_thresholds, pixel_thresholds, mask_path=mask_path)\n",
    "    \n",
    "    # save blob images\n",
    "    np.save(oj(save_dir, case), output[0])\n",
    "    np.save(oj(save_dir, case + '_gm'), output[2])\n",
    "    \n",
    "    # append the counts for this case\n",
    "    for i, (x, y) in enumerate(zip(output[1], output[3])):\n",
    "        blob_counts[i].append(x)\n",
    "        gm_blob_counts[i].append(y)\n",
    "    \n",
    "    \n",
    "# add the pathology count columns\n",
    "df['tissue_cored_count'] = blob_counts[0]\n",
    "df['tissue_diffuse_count'] = blob_counts[1]\n",
    "df['tissue_caa_count'] = blob_counts[2]\n",
    "df['gm_cored_count'] = gm_blob_counts[0]\n",
    "df['gm_diffuse_count'] = gm_blob_counts[1]\n",
    "df['gm_caa_count'] = gm_blob_counts[2]\n",
    "\n",
    "# add the CNN score columns\n",
    "df['tissue_cored_score'] = (df['tissue_cored_count'] * 1000 / df['tissue_px_count']).tolist()\n",
    "df['tissue_diffuse_score'] = (df['tissue_diffuse_count'] * 1000 / df['tissue_px_count']).tolist()\n",
    "df['tissue_caa_score'] = (df['tissue_caa_count'] * 1000 / df['tissue_px_count']).tolist()\n",
    "df['gm_cored_score'] = (df['gm_cored_count'] * 1000 / df['gm_px_count']).tolist()\n",
    "df['gm_diffuse_score'] = (df['gm_diffuse_count'] * 1000 / df['gm_px_count']).tolist()\n",
    "df['gm_caa_score'] = (df['gm_caa_count'] * 1000 / df['gm_px_count']).tolist()\n",
    "\n",
    "# save\n",
    "df.to_csv(csv_path, index=False)\n",
    "df.head()"
   ]
  }
 ],
 "metadata": {
  "kernelspec": {
   "display_name": "Python 3",
   "language": "python",
   "name": "python3"
  },
  "language_info": {
   "codemirror_mode": {
    "name": "ipython",
    "version": 3
   },
   "file_extension": ".py",
   "mimetype": "text/x-python",
   "name": "python",
   "nbconvert_exporter": "python",
   "pygments_lexer": "ipython3",
   "version": "3.7.5"
  }
 },
 "nbformat": 4,
 "nbformat_minor": 2
}
