{
 "cells": [
  {
   "cell_type": "markdown",
   "metadata": {},
   "source": [
    "# 3) Norm Tiling\n",
    "\n",
    "This notebook runs on a batch (directory) of WSI files, not tailored to be used for a single file.\n",
    "\n",
    "For generation of confidence heatmaps the WSI must go through a process referred to as tiling. This process involves breaking down the large WSI into small images or tiles (akin to aplying a grid to the image) and saving these tiles to a directory in a predefined order. This notebook performs this for all the images in this study and includes a color normalization step before saving by applying Reinhard color normalization. The color stats used in Reinhard color normalization are obtained from the entire WSI using pyvips.\n",
    "\n",
    "*Notes: the calculation of the color stats used in color normalization are obtained from the entire image, including the white space. This is a source of noise as it should not be including the white space. Also, the entire image get normalized, even the white space, which is another source of error. In short I would hypothesize that the CNN is ignoring some of the color information instead of taking it into account because of this.*"
   ]
  },
  {
   "cell_type": "code",
   "execution_count": null,
   "metadata": {},
   "outputs": [],
   "source": [
    "import sys\n",
    "import os\n",
    "import pyvips as Vips\n",
    "import numpy as np\n",
    "from tqdm import tqdm_notebook\n",
    "from time import time \n",
    "from os.path import join as oj\n",
    "import matplotlib.pyplot as plt\n",
    "sys.path.append('../modules/')\n",
    "import normalize, vips_utils, utils"
   ]
  },
  {
   "cell_type": "code",
   "execution_count": null,
   "metadata": {},
   "outputs": [],
   "source": [
    "\"\"\"***Path related parameters to check before running***\"\"\"\n",
    "data_dir = '/mnt/Data/'  # mount data directory to this location when running Docker container\n",
    "# location of data, each dataset is in its own dir\n",
    "wsi_dirs = [\n",
    "    oj(data_dir, 'wsi/Dataset_1a_Development_train/'), oj(data_dir, 'wsi/Dataset_1b_Development_validation/'),\n",
    "    oj(data_dir, 'wsi/Dataset_2_Hold-out/'), oj(data_dir, 'wsi/Dataset_3_CERAD-like_hold-out/'),\n",
    "    oj(data_dir, 'wsi/Dataset_Emory/')\n",
    "]\n",
    "# corresponding daving location for each data dir in wsi_dirs\n",
    "save_dirs = [\n",
    "    oj(data_dir, 'norm_tiles/norm_tiles_dataset_1a/'), oj(data_dir, 'norm_tiles/norm_tiles_dataset_1b'),\n",
    "    oj(data_dir, 'norm_tiles/norm_tiles_dataset_2/'), oj(data_dir, 'norm_tiles/norm_tiles_dataset_3/'),\n",
    "    oj(data_dir, 'norm_tiles/norm_tiles_dataset_emory/')\n",
    "]\n",
    "# some images were scanned at 40x, provide a list of these to rescale to 20x before norm tiling\n",
    "rescale = [\"NA5005-02_AB.svs\", \"NA4053-02_AB.svs\", \"NA4129-2_AB.svs\", \"NA4133_2_AB.svs\", \"NA4156-2_AB.svs\",\n",
    "    \"NA4167-2_AB.svs\", \"NA4853-02_AB17-24.svs\", \"NA4953-02_AB17-24.svs\", \"NA4954-02_AB17-24.svs\",\n",
    "    \"NA4964-02_AB17-24.svs\", \"NA4974-02_AB17-24.svs\"]\n",
    "# reference image for Reinhard color norm - from Tang et al choice\n",
    "ref_im_path = oj(data_dir, 'wsi/Dataset_1a_Development_train/NA5002_2AB.svs')\n",
    "\n",
    "ref_thumbnail = utils.vips2numpy(Vips.Image.new_from_file(ref_im_path, level=2))\n",
    "plt.imshow(ref_thumbnail)\n",
    "plt.title(\"Reference Image ({})\".format(ref_im_path.split('/')[-1]), fontsize=12)\n",
    "plt.tick_params(axis='x', which='both', bottom=False, labelbottom=False)\n",
    "plt.tick_params(axis='y', which='both', left=False, labelleft=False)\n",
    "plt.show()"
   ]
  },
  {
   "cell_type": "code",
   "execution_count": null,
   "metadata": {},
   "outputs": [],
   "source": [
    "# normalizer is a custom Python class for applying Reinhard color normalization\n",
    "ref_image = Vips.Image.new_from_file(ref_im_path, level=0)\n",
    "normalizer = normalize.Reinhard()\n",
    "normalizer.fit(ref_image)\n",
    "\n",
    "# performs tiling for each WSI\n",
    "stats_dict = {}  # for bookkeeping\n",
    "for wsi_dir, save_dir in zip(wsi_dirs, save_dirs):\n",
    "    print(wsi_dir)\n",
    "    os.makedirs(save_dir, exist_ok=True)\n",
    "    \n",
    "    # list image files\n",
    "    wsis = [file for file in os.listdir(wsi_dir) if file.endswith(\".svs\")]\n",
    "    \n",
    "    for wsi in tqdm_notebook(wsis, total=len(wsis)):\n",
    "        vips_img = Vips.Image.new_from_file(os.path.join(wsi_dir, wsi), level=0)\n",
    "        filename = os.path.splitext(wsi)[0]\n",
    "        \n",
    "        # check if rescaling is needed\n",
    "        if wsi in rescale:\n",
    "            vips_img = vips_img.resize(0.5)\n",
    "\n",
    "        out = normalizer.transform(vips_img)\n",
    "        out.filename = filename\n",
    "        \n",
    "        # skips directories already present \n",
    "        im_dir = oj(save_dir, filename)\n",
    "        if not os.path.isdir(im_dir) or len(os.listdir(im_dir)) == 0:\n",
    "            vips_utils.save_and_tile(out, save_dir)\n",
    "        \n",
    "        stats_dict[wsi] = normalizer.image_stats\n",
    "\n",
    "stats_dict"
   ]
  }
 ],
 "metadata": {
  "kernelspec": {
   "display_name": "Python 3",
   "language": "python",
   "name": "python3"
  },
  "language_info": {
   "codemirror_mode": {
    "name": "ipython",
    "version": 3
   },
   "file_extension": ".py",
   "mimetype": "text/x-python",
   "name": "python",
   "nbconvert_exporter": "python",
   "pygments_lexer": "ipython3",
   "version": "3.6.8"
  }
 },
 "nbformat": 4,
 "nbformat_minor": 2
}
