{
 "cells": [
  {
   "cell_type": "markdown",
   "metadata": {},
   "source": [
    "# Figures - Original CNN Score Comparisons\n",
    "Last updated 9 April 2020\n",
    "\n",
    "Various comparisons of the CNN scores by CERAD-like categories, Reagan scores, and pathological diagnosis as well as gray matter analysis of the scores. These were the original comparisons done before final publication."
   ]
  },
  {
   "cell_type": "code",
   "execution_count": null,
   "metadata": {},
   "outputs": [],
   "source": [
    "%reset -f\n",
    "import os\n",
    "import pandas as pd\n",
    "import sys\n",
    "from os.path import join as oj\n",
    "sys.path.append('..')\n",
    "from modules import plotting\n",
    "\n",
    "save_dir = '/mnt/data/figures/'\n",
    "data_path = '../CSVs/Emory_data.csv'\n",
    "score_columns = ['{}_cored_score', '{}_diffuse_score', '{}_caa_score']\n",
    "labels = ['Cored', 'Diffuse', 'CAA']\n",
    "\n",
    "os.makedirs(save_dir, exist_ok=True)\n",
    "df = pd.read_csv(data_path)"
   ]
  },
  {
   "cell_type": "markdown",
   "metadata": {},
   "source": [
    "#### CNN vs CERAD-like scores\n",
    "\n",
    "Recreation of box plots shown in Tang paper but incorporating the Emory cohort."
   ]
  },
  {
   "cell_type": "code",
   "execution_count": null,
   "metadata": {
    "scrolled": false
   },
   "outputs": [],
   "source": [
    "x_param = {0: 'None', 1: 'Sparse', 2: 'Moderate', 3: 'Frequent'}\n",
    "plotting.plot_cnn_scores(df, 'Cored_MTG', 'tissue_cored_score', x_param, ylabel='CNN scores', \n",
    "                         xlabel='CERAD-like scores', \n",
    "                         save_name='/mnt/data/figures/cnn_vs_cerad_cored_emory_tissue.png')\n",
    "plotting.plot_cnn_scores(df, 'Diffuse_MTG', 'tissue_diffuse_score', x_param, ylabel='CNN scores', \n",
    "                         xlabel='CERAD-like scores', \n",
    "                         save_name='/mnt/data/figures/cnn_vs_cerad_diffuse_emory_tissue.png')\n",
    "plotting.plot_cnn_scores(df, 'CAA_MTG', 'tissue_caa_score', x_param, ylabel='CNN scores', \n",
    "                         xlabel='CERAD-like scores', \n",
    "                         save_name='/mnt/data/figures/cnn_vs_cerad_caa_emory_tissue.png')"
   ]
  },
  {
   "cell_type": "code",
   "execution_count": null,
   "metadata": {},
   "outputs": [],
   "source": [
    "# add column for concomitant_dx\n",
    "df_concomitant = df.copy()\n",
    "df_concomitant"
   ]
  },
  {
   "cell_type": "markdown",
   "metadata": {},
   "source": [
    "#### Pathology Diagnosis Comparisons"
   ]
  },
  {
   "cell_type": "code",
   "execution_count": null,
   "metadata": {
    "scrolled": false
   },
   "outputs": [],
   "source": [
    "# add column for concomitant_dx\n",
    "df_concomitant = df.copy()\n",
    "concomitant_dx = []\n",
    "dx_columns = ['Primary Dx', 'Secondary Dx (1)', 'Secondary Dx (2)']\n",
    "\n",
    "for index, row in df_concomitant.iterrows():\n",
    "    # concatenate the diagnosis column values\n",
    "    dxs = [row[dx] for dx in dx_columns if row[dx] not in ['none', 'amyg LB']]\n",
    "    \n",
    "    # to simplify convert poss AD and prob AD to AD\n",
    "    for i, dx in enumerate(dxs):\n",
    "        if dx in ['poss AD', 'prob AD']:\n",
    "            dxs[i] = 'AD'\n",
    "    \n",
    "    # if else clauses\n",
    "    if len(dxs) == 1 and dxs[0] == 'control':\n",
    "        concomitant_dx.append('control')\n",
    "    elif len(dxs) == 1 and dxs[0] == 'AD':\n",
    "        concomitant_dx.append('AD')\n",
    "    elif 'AD' in dxs and 'DLB' not in dxs and 'TDP' not in dxs:\n",
    "        concomitant_dx.append('AD')\n",
    "    elif 'AD' in dxs and 'DLB' in dxs and 'TDP' not in dxs:\n",
    "        concomitant_dx.append('AD+DLB')\n",
    "    elif 'AD' in dxs and 'TDP' in dxs and 'DLB' not in dxs:\n",
    "        concomitant_dx.append('AD+TDP')\n",
    "    else:\n",
    "        concomitant_dx.append('none')\n",
    "\n",
    "# remove cases with none for concomitant\n",
    "df_concomitant['Concomitant Diagnosis'] = concomitant_dx\n",
    "df_concomitant = df_concomitant[df_concomitant['Concomitant Diagnosis'] != 'none'].reset_index(drop=True)\n",
    "\n",
    "# plot CNN score comparisons for tissue CNN scores\n",
    "x_param = {'control': 'control', 'AD': 'AD', 'AD+TDP': 'AD+TDP','AD+DLB': 'AD+DLB'}\n",
    "\n",
    "for label, score_column in zip(labels, score_columns):\n",
    "    save_path = oj(save_dir, 'tissue_{}_dx_comparison.png'.format(label))\n",
    "    plotting.plot_cnn_scores(df_concomitant, 'Concomitant Diagnosis', score_column.format('tissue'), x_param,\n",
    "                            ylabel='Whole Tissue CNN scores ({})'.format(label), xlabel='Pathological Diagnosis',\n",
    "                            save_name=save_path)\n",
    "    \n",
    "# repeat for gray matter only\n",
    "for label, score_column in zip(labels, score_columns):\n",
    "    save_path = oj(save_dir, 'gm_{}_dx_comparison.png'.format(label))\n",
    "    plotting.plot_cnn_scores(df_concomitant, 'Concomitant Diagnosis', score_column.format('gm'), x_param,\n",
    "                            ylabel='Gray Matter CNN scores ({})'.format(label), xlabel='Pathological Diagnosis',\n",
    "                            save_name=save_path)"
   ]
  },
  {
   "cell_type": "code",
   "execution_count": null,
   "metadata": {},
   "outputs": [],
   "source": [
    "# parameters\n",
    "save_dir = '/mnt/Data/outputs/CNN_comparisons/'\n",
    "os.makedirs(save_dir, exist_ok=True)\n",
    "\n",
    "df_emory = pd.read_csv('../CSVs/Emory_data.csv')\n",
    "df_tang = pd.read_csv('../CSVs/CNN_vs_CREAD.csv')\n",
    "df_emory['Group'] = ['emory'] * len(df_emory)\n",
    "df = pd.concat([df_tang, df_emory], axis=0, ignore_index=True, sort=False)\n",
    "df.head()"
   ]
  },
  {
   "cell_type": "code",
   "execution_count": null,
   "metadata": {},
   "outputs": [],
   "source": [
    "def cnn_vs_cerad(data, description, save_dir=None, gm=False, subgroup=None, cerad_style=None):\n",
    "    \"\"\"Function for plotting CNN vs CERAD given a datatfile.\n",
    "    \n",
    "    :param data : Dataframe\n",
    "        contains the csv data generated in this project, either Tang or the Emory file\n",
    "    :param description : str\n",
    "        this is to add in the name file for differentiating the figures\"\"\"\n",
    "    data = data.copy()\n",
    "    \n",
    "    if subgroup is not None:\n",
    "        data = data[data['Group'].isin(subgroup)].reset_index(drop=True)\n",
    "    \n",
    "    x_param = {0: 'None', 1: 'Sparse', 2: 'Moderate', 3: 'Frequent'}\n",
    "    \n",
    "    cerad_labels = ['Cored_MTG', 'Diffuse_MTG', 'CAA_MTG']\n",
    "    \n",
    "    if cerad_style:\n",
    "        cnn_labels = ['score_cnn_gm_cored', 'score_cnn_gm_diffuse', 'score_cnn_gm_caa']\n",
    "    elif gm:\n",
    "        cnn_labels = ['gm_cored_score', 'gm_diffuse_score', 'gm_caa_score']\n",
    "    else:\n",
    "        cnn_labels = ['tissue_cored_score', 'tissue_diffuse_score', 'tissue_caa_score']\n",
    "    labels = ['Cored', 'Diffuse', 'CAA']\n",
    "    \n",
    "    save_name = None\n",
    "    for i in range(3):\n",
    "        if save_dir is not None:\n",
    "            os.makedirs(save_dir, exist_ok=True)\n",
    "            save_name = oj(save_dir, 'CNN_vs_CERAD_{}_{}.png'.format(labels[i], description))\n",
    "            \n",
    "        cat_data = data[cerad_labels[i]].tolist()\n",
    "        cont_data = data[cnn_labels[i]].tolist()\n",
    "        r, p = spearmanr(cat_data, cont_data)\n",
    "        print('spearman rank-order: r = {}, p = {}'.format(r, p))\n",
    "            \n",
    "        plotting.plot_cnn_scores(data, cerad_labels[i], cnn_labels[i], x_param,\n",
    "                          'CNN scores ({})'.format(labels[i]),\n",
    "                          'CERAD-like categories ({})'.format(labels[i]),\n",
    "                          save_name=save_name)\n",
    "        \n",
    "\n",
    "def cnn_vs_diagnosis(data, description, save_dir=None, gm=False, subgroup=None, cerad_style=None):\n",
    "    \"\"\"Function for plotting CNN vs CERAD given a datatfile.\n",
    "    \n",
    "    :param data : Dataframe\n",
    "        contains the csv data generated in this project, either Tang or the Emory file\n",
    "    :param description : str\n",
    "        this is to add in the name file for differentiating the figures\"\"\"\n",
    "    data = data.copy()\n",
    "    if subgroup is not None:\n",
    "        data = data[data['Group'].isin(subgroup)].reset_index(drop=True) \n",
    "    \n",
    "    x_param = {'non-AD': 'non-AD', 'AD': 'AD'}\n",
    "    \n",
    "    diagnosis_label = 'curated_dx'\n",
    "    \n",
    "    if cerad_style:\n",
    "        cnn_labels = ['score_cnn_gm_cored', 'score_cnn_gm_diffuse', 'score_cnn_gm_caa']\n",
    "    elif gm:\n",
    "        cnn_labels = ['gm_cored_score', 'gm_diffuse_score', 'gm_caa_score']\n",
    "    else:\n",
    "        cnn_labels = ['tissue_cored_score', 'tissue_diffuse_score', 'tissue_caa_score']\n",
    "    labels = ['Cored', 'Diffuse', 'CAA']\n",
    "    \n",
    "    save_name = None\n",
    "    for i in range(3):\n",
    "        if save_dir is not None:\n",
    "            os.makedirs(save_dir, exist_ok=True)\n",
    "            save_name = oj(save_dir, 'CNN_vs_Diagnosis_{}_{}.png'.format(labels[i], description))\n",
    "            \n",
    "        cat_data = data[diagnosis_label].tolist()\n",
    "        cont_data = data[cnn_labels[i]].tolist()\n",
    "        r, p = spearmanr(cat_data, cont_data)\n",
    "        print('spearman rank-order: r = {}, p = {}'.format(r, p))\n",
    "            \n",
    "        plotting.plot_cnn_scores(data, diagnosis_label, cnn_labels[i], x_param,\n",
    "                          'CNN scores ({})'.format(labels[i]),\n",
    "                          'Pathological Diagnosis',\n",
    "                          save_name=save_name, figsize=(7,8))\n",
    "        \n",
    "def cnn_vs_reagan(data, description, save_dir=None, gm=False, subgroup=None, cerad_style=None):\n",
    "    \"\"\"Function for plotting CNN vs CERAD given a datatfile.\n",
    "    \n",
    "    :param data : Dataframe\n",
    "        contains the csv data generated in this project, either Tang or the Emory file\n",
    "    :param description : str\n",
    "        this is to add in the name file for differentiating the figures\"\"\"\n",
    "    data = data.copy()\n",
    "    if subgroup is not None:\n",
    "        data = data[data['Group'].isin(subgroup)].reset_index(drop=True) \n",
    "    \n",
    "    x_param = {'no/low': 'no/low', 'intermediate': 'intermediate', 'high': 'high'}\n",
    "#     x_param = {'no': 'no', 'low': 'low', 'intermediate': 'intermediate', 'high': 'high'}\n",
    "    \n",
    "    reagan_label = 'grouped_reagen'\n",
    "    \n",
    "    if cerad_style:\n",
    "        cnn_labels = ['score_cnn_gm_cored', 'score_cnn_gm_diffuse', 'score_cnn_gm_caa']\n",
    "    elif gm:\n",
    "        cnn_labels = ['gm_cored_score', 'gm_diffuse_score', 'gm_caa_score']\n",
    "    else:\n",
    "        cnn_labels = ['tissue_cored_score', 'tissue_diffuse_score', 'tissue_caa_score']\n",
    "    labels = ['Cored', 'Diffuse', 'CAA']\n",
    "    \n",
    "    save_name = None\n",
    "    for i in range(3):\n",
    "        if save_dir is not None:\n",
    "            os.makedirs(save_dir, exist_ok=True)\n",
    "            save_name = oj(save_dir, 'CNN_vs_Reagan_{}_{}.png'.format(labels[i], description))\n",
    "            \n",
    "        cat_data = data[reagan_label].tolist()\n",
    "        cont_data = data[cnn_labels[i]].tolist()\n",
    "        r, p = spearmanr(cat_data, cont_data)\n",
    "        print('spearman rank-order: r = {}, p = {}'.format(r, p))\n",
    "            \n",
    "        plotting.plot_cnn_scores(data, reagan_label, cnn_labels[i], x_param,\n",
    "                          'CNN scores ({})'.format(labels[i]),\n",
    "                          'Regan Score',\n",
    "                          save_name=save_name, figsize=(7,8), fontsize=24, labelsize=24)"
   ]
  },
  {
   "cell_type": "markdown",
   "metadata": {},
   "source": [
    "### Emory CNN vs CERAD for Whole Tissue Scores"
   ]
  },
  {
   "cell_type": "code",
   "execution_count": null,
   "metadata": {
    "scrolled": true
   },
   "outputs": [],
   "source": [
    "cnn_vs_cerad(df, 'EmoryDataset_Tissue', save_dir=save_dir, subgroup=['emory'])"
   ]
  },
  {
   "cell_type": "markdown",
   "metadata": {},
   "source": [
    "### Emory CNN vs CERAD for Gray Matter Scores"
   ]
  },
  {
   "cell_type": "code",
   "execution_count": null,
   "metadata": {},
   "outputs": [],
   "source": [
    "cnn_vs_cerad(df, 'EmoryDataset_GM', save_dir=save_dir, subgroup=['emory'], gm=True)"
   ]
  },
  {
   "cell_type": "markdown",
   "metadata": {},
   "source": [
    "### Comparing CNN vs CERAD between Emory and Tang Hold-out Datasets"
   ]
  },
  {
   "cell_type": "code",
   "execution_count": null,
   "metadata": {
    "scrolled": true
   },
   "outputs": [],
   "source": [
    "# Comparing Tang and Emory CNN scores, grouped by their CERAD-like categories\n",
    "tang_df = pd.read_csv('../CSVs/CNN_vs_CREAD.csv')\n",
    "emory_data = df[df['Group'] == 'emory'].reset_index(drop=True)\n",
    "\n",
    "plotting.compare_dfs(emory_data, tang_df, 'Cored_MTG', 'tissue_cored_score', \n",
    "                     ['Emory', 'Tang'], xticks=['None', 'Sparse', 'Moderate', 'Frequent'],\n",
    "                    xlabel='CERAD-like categories (cored)', ylabel='CNN scores (cored)')\n",
    "plotting.compare_dfs(emory_data, tang_df, 'Diffuse_MTG', 'tissue_diffuse_score', \n",
    "                     ['Emory', 'Tang'], xticks=['None', 'Sparse', 'Moderate', 'Frequent'],\n",
    "                    xlabel='CERAD-like categories (diffuse)', ylabel='CNN scores (diffuse)')\n",
    "plotting.compare_dfs(emory_data, tang_df, 'CAA_MTG', 'tissue_caa_score', \n",
    "                     ['Emory', 'Tang'], xticks=['None', 'Sparse', 'Moderate', 'Frequent'],\n",
    "                    xlabel='CERAD-like categories (CAA)', ylabel='CNN scores (CAA)')"
   ]
  },
  {
   "cell_type": "markdown",
   "metadata": {},
   "source": [
    "### CNN vs CERAD for Combined Emory and Tang dataset (tissue only)"
   ]
  },
  {
   "cell_type": "code",
   "execution_count": null,
   "metadata": {
    "scrolled": true
   },
   "outputs": [],
   "source": [
    "# combining the two datasets\n",
    "cnn_vs_cerad(df, '', subgroup=['emory', 'hold out'])"
   ]
  },
  {
   "cell_type": "markdown",
   "metadata": {},
   "source": [
    "### CNN vs Pathologies (Any AD vs Non-AD)"
   ]
  },
  {
   "cell_type": "code",
   "execution_count": null,
   "metadata": {
    "scrolled": true
   },
   "outputs": [],
   "source": [
    "# cases with pathological diagnosis of AD (include cases that are AD + DLB)\n",
    "# add the curated dx column\n",
    "curated_dx = ['none'] * len(df)\n",
    "for i, r in df.iterrows():\n",
    "    dx1 = r['Primary Dx']\n",
    "    dx2 = r['Secondary Dx (1)']\n",
    "    dx3 = r['Secondary Dx (2)']\n",
    "    dxs = [dx1, dx2, dx3]\n",
    "    \n",
    "    ad_flag = False\n",
    "    \n",
    "    if 'AD' in dxs or 'poss AD' in dxs or 'prob AD' in dxs:\n",
    "        ad_flag = True\n",
    "        \n",
    "    if ad_flag:\n",
    "        curated_dx[i] = 'AD'\n",
    "    else:\n",
    "        curated_dx[i] = 'non-AD'\n",
    "#     if dx1 == 'control':\n",
    "#         curated_dx[i] = 'control'\n",
    "#     if dx1 == 'AD' and dx2 == 'none':\n",
    "#         curated_dx[i] = 'AD'\n",
    "#     elif dx1 == 'AD' and dx2 == 'DLB' and dx3 == 'none':\n",
    "#         curated_dx[i] = 'AD'\n",
    "#     elif dx1 == 'DLB' and dx2 == 'AD':\n",
    "#         curated_dx[i] = 'AD'\n",
    "\n",
    "df['curated_dx'] = curated_dx\n",
    "\n",
    "cnn_vs_diagnosis(df, 'EmoryDataset_Tissue', save_dir=save_dir, subgroup=['emory'])\n",
    "cnn_vs_diagnosis(df, 'EmoryDataset_GM', save_dir=save_dir, subgroup=['emory'], gm=True)"
   ]
  },
  {
   "cell_type": "markdown",
   "metadata": {},
   "source": [
    "### CNN vs Reagan for Tissue Scores"
   ]
  },
  {
   "cell_type": "code",
   "execution_count": null,
   "metadata": {
    "scrolled": true
   },
   "outputs": [],
   "source": [
    "# group no and low together\n",
    "grouped_reagen = ['none'] * len(df)\n",
    "for i, r in df.iterrows():\n",
    "    if r['Reagan'] in ['no', 'low']:\n",
    "        grouped_reagen[i] = 'no/low'\n",
    "    else:\n",
    "        grouped_reagen[i] = r['Reagan']\n",
    "        \n",
    "df['grouped_reagen'] = grouped_reagen\n",
    "\n",
    "cnn_vs_reagan(df, 'EmoryDataset_Tissue', save_dir=save_dir, subgroup=['emory'])\n"
   ]
  },
  {
   "cell_type": "markdown",
   "metadata": {},
   "source": [
    "### CNN vs Reagan for Gray Matter Scores"
   ]
  },
  {
   "cell_type": "code",
   "execution_count": null,
   "metadata": {},
   "outputs": [],
   "source": [
    "cnn_vs_reagan(df, 'EmoryDataset_GM', save_dir=save_dir, subgroup=['emory'], gm=True)"
   ]
  },
  {
   "cell_type": "markdown",
   "metadata": {},
   "source": [
    "### Gray Matter vs Tissue Differences"
   ]
  },
  {
   "cell_type": "code",
   "execution_count": null,
   "metadata": {
    "scrolled": true
   },
   "outputs": [],
   "source": [
    "temp = df[df['Group'] == 'emory'].copy().reset_index(drop=True)\n",
    "\n",
    "figure = plt.figure(figsize=(12,10))\n",
    "tissue_cored_score = temp['tissue_cored_score'].tolist()\n",
    "gm_cored_score = temp['gm_cored_score'].tolist()\n",
    "\n",
    "tissue_diffuse_score = temp['tissue_diffuse_score'].tolist()\n",
    "gm_diffuse_score = temp['gm_diffuse_score'].tolist()\n",
    "\n",
    "tissue_caa_score = temp['tissue_caa_score'].tolist()\n",
    "gm_caa_score = temp['gm_caa_score'].tolist()\n",
    "\n",
    "tissue_cored_score, gm_cored_score = (list(t) for t in zip(*sorted(zip(tissue_cored_score, gm_cored_score))))\n",
    "fig = plt.figure(figsize=(12,12))\n",
    "plt.plot(tissue_cored_score, color='b')\n",
    "plt.plot(gm_cored_score, color='b', linestyle='--')\n",
    "\n",
    "tissue_diffuse_score, gm_diffuse_score = (list(t) for t in zip(*sorted(zip(tissue_diffuse_score, gm_diffuse_score))))\n",
    "plt.plot(tissue_diffuse_score, color='r')\n",
    "plt.plot(gm_diffuse_score, color='r', linestyle='--')\n",
    "\n",
    "tissue_caa_score, gm_caa_score = (list(t) for t in zip(*sorted(zip(tissue_caa_score, gm_caa_score))))\n",
    "plt.plot(tissue_caa_score, color='g')\n",
    "plt.plot(gm_caa_score, color='g', linestyle='--')\n",
    "plt.legend(['Tissue Cored', 'GM Cored', 'Tissue Diffuse', 'GM Diffuse', 'Tissue CAA', 'GM CAA'], \n",
    "          loc='upper left', fontsize=22)\n",
    "plt.ylabel('CNN Scores', fontsize=24)\n",
    "plt.xlabel('Cases', fontsize=24)\n",
    "plt.xticks(fontsize=22)\n",
    "plt.yticks(fontsize=22)\n",
    "fig.savefig(oj(save_dir, 'gm_increase.png'), bbox_inches='tight', dpi=300)\n",
    "plt.show()"
   ]
  }
 ],
 "metadata": {
  "kernelspec": {
   "display_name": "Python 3",
   "language": "python",
   "name": "python3"
  },
  "language_info": {
   "codemirror_mode": {
    "name": "ipython",
    "version": 3
   },
   "file_extension": ".py",
   "mimetype": "text/x-python",
   "name": "python",
   "nbconvert_exporter": "python",
   "pygments_lexer": "ipython3",
   "version": "3.6.8"
  }
 },
 "nbformat": 4,
 "nbformat_minor": 2
}
