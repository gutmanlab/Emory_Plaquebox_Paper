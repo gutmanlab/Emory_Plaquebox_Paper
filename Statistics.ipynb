{
 "cells": [
  {
   "cell_type": "markdown",
   "metadata": {},
   "source": [
    "# Statistics\n",
    "Thursday 19 March 2020\n",
    "\n",
    "Performing statistics on the CNN score results."
   ]
  },
  {
   "cell_type": "code",
   "execution_count": 1,
   "metadata": {},
   "outputs": [],
   "source": [
    "%load_ext autoreload\n",
    "%autoreload 2"
   ]
  },
  {
   "cell_type": "code",
   "execution_count": 71,
   "metadata": {},
   "outputs": [],
   "source": [
    "from modules import stats\n",
    "from pandas import read_csv\n",
    "import matplotlib.pyplot as plt\n",
    "from scipy.stats import spearmanr, f_oneway\n",
    "from statsmodels.formula.api import ols\n",
    "import statsmodels.api as sm\n",
    "\n",
    "# static variables\n",
    "CERAD_COLS = ['Cored_MTG', 'Diffuse_MTG', 'CAA_MTG']\n",
    "TISSUE_SCORE_COLS = ['tissue_cored_score', 'tissue_diffuse_score', 'tissue_caa_score']\n",
    "GM_SCORE_COLS = ['gm_cored_score', 'gm_diffuse_score', 'gm_caa_score']\n",
    "\n",
    "# load emory and tang data\n",
    "emory_data = read_csv('CSVs/Emory_data.csv')\n",
    "tang_data = read_csv('CSVs/Tang_data.csv')\n",
    "\n",
    "# subset tang_data to only the hold-out dataset\n",
    "tang_data = tang_data[tang_data['Group'] == 'hold out'].reset_index(drop=True)\n",
    "\n",
    "# convert Regan column to int\n",
    "mapping = {'no': 0, 'low': 1, 'intermediate': 2, 'high': 3}\n",
    "emory_data = emory_data.replace({'Reagan': mapping})"
   ]
  },
  {
   "cell_type": "markdown",
   "metadata": {},
   "source": [
    "## Spearman's Rank-order Correlation\n",
    "Perform Spearman's rank-order correlation between the CNN scores and the ordinal categories. Two ordinal categories are of interest - CERAD-like scores and Reagan Scores."
   ]
  },
  {
   "cell_type": "code",
   "execution_count": 38,
   "metadata": {},
   "outputs": [],
   "source": [
    "# * note that this cell deals with CNN scores for the whole tissue\n",
    "# calculate Spearman's rank order coefficient for the Tang data set\n",
    "tang_spearman_coef = []\n",
    "for tissue_col, cerad_col in zip(TISSUE_SCORE_COLS, CERAD_COLS):\n",
    "    # get column in DataFrame as list\n",
    "    tissue_scores = tang_data[tissue_col].tolist()\n",
    "    cerad_scores = tang_data[cerad_col].tolist()\n",
    "    \n",
    "    # get coefficient\n",
    "    rho, p = spearmanr(tissue_scores, cerad_scores)\n",
    "    tang_spearman_coef.append((rho, p))\n",
    "    \n",
    "# calculate the same for the Emory dataset\n",
    "emory_spearman_coef = []\n",
    "for tissue_col, cerad_col in zip(TISSUE_SCORE_COLS, CERAD_COLS):\n",
    "    # get column in DataFrame as list\n",
    "    tissue_scores = emory_data[tissue_col].tolist()\n",
    "    cerad_scores = emory_data[cerad_col].tolist()\n",
    "    \n",
    "    # get coefficient\n",
    "    rho, p = spearmanr(tissue_scores, cerad_scores)\n",
    "    emory_spearman_coef.append((rho, p))"
   ]
  },
  {
   "cell_type": "code",
   "execution_count": 45,
   "metadata": {},
   "outputs": [],
   "source": [
    "# performing Spearman's rank-order coefficient for Emory data using the gray matter CNN scores\n",
    "gm_spearman_coef = []\n",
    "for gm_col, cerad_col in zip(GM_SCORE_COLS, CERAD_COLS):\n",
    "    # get column in DataFrame as list\n",
    "    gm_scores = emory_data[gm_col].tolist()\n",
    "    cerad_scores = emory_data[cerad_col].tolist()\n",
    "    \n",
    "    # get coefficient\n",
    "    rho, p = spearmanr(gm_scores, cerad_scores)\n",
    "    gm_spearman_coef.append((rho, p))"
   ]
  },
  {
   "cell_type": "code",
   "execution_count": 60,
   "metadata": {},
   "outputs": [],
   "source": [
    "# repeat with the Reagan scores for emory with tissue and gm scores\n",
    "reagan_spearman_coef = []\n",
    "for tissue_col in TISSUE_SCORE_COLS:\n",
    "    # get column in DataFrame as list\n",
    "    tissue_scores = emory_data[tissue_col].tolist()\n",
    "    reagan_scores = emory_data['Reagan'].tolist()\n",
    "    \n",
    "    # get coefficient\n",
    "    rho, p = spearmanr(tissue_scores, reagan_scores)\n",
    "    reagan_spearman_coef.append((rho, p))\n",
    "    \n",
    "reagan_gm_spearman_coef = []\n",
    "for gm_col in GM_SCORE_COLS:\n",
    "    # get column in DataFrame as list\n",
    "    gm_scores = emory_data[gm_col].tolist()\n",
    "    reagan_scores = emory_data['Reagan'].tolist()\n",
    "    \n",
    "    # get coefficient\n",
    "    rho, p = spearmanr(gm_scores, reagan_scores)\n",
    "    reagan_gm_spearman_coef.append((rho, p))"
   ]
  },
  {
   "cell_type": "markdown",
   "metadata": {},
   "source": [
    "## ANOVA\n",
    "Peform an ANOVA on all comparisons, do following post-hoc tests to identify which groups differ from each other and plot the results. Unlike Spearman's rank-order this analysis can be done on all comparisons in the paper.\n",
    "\n",
    "References:\n",
    "\n",
    "https://pythonfordatascience.org/anova-python/\n",
    "\n",
    "https://stackoverflow.com/questions/16049552/what-statistics-module-for-python-supports-one-way-anova-with-post-hoc-tests-tu"
   ]
  },
  {
   "cell_type": "code",
   "execution_count": 65,
   "metadata": {},
   "outputs": [
    {
     "data": {
      "text/plain": [
       "F_onewayResult(statistic=16.453839055526156, pvalue=3.383993724338749e-06)"
      ]
     },
     "execution_count": 65,
     "metadata": {},
     "output_type": "execute_result"
    }
   ],
   "source": [
    "f_oneway(tang_data['tissue_cored_score'][tang_data['Cored_MTG'] == 0],\n",
    "         tang_data['tissue_cored_score'][tang_data['Cored_MTG'] == 1],\n",
    "         tang_data['tissue_cored_score'][tang_data['Cored_MTG'] == 2],\n",
    "         tang_data['tissue_cored_score'][tang_data['Cored_MTG'] == 3]\n",
    ")"
   ]
  },
  {
   "cell_type": "code",
   "execution_count": 81,
   "metadata": {},
   "outputs": [
    {
     "data": {
      "text/html": [
       "<table class=\"simpletable\">\n",
       "<caption>OLS Regression Results</caption>\n",
       "<tr>\n",
       "  <th>Dep. Variable:</th>    <td>tissue_cored_score</td> <th>  R-squared:         </th> <td>   0.655</td>\n",
       "</tr>\n",
       "<tr>\n",
       "  <th>Model:</th>                    <td>OLS</td>        <th>  Adj. R-squared:    </th> <td>   0.615</td>\n",
       "</tr>\n",
       "<tr>\n",
       "  <th>Method:</th>              <td>Least Squares</td>   <th>  F-statistic:       </th> <td>   16.45</td>\n",
       "</tr>\n",
       "<tr>\n",
       "  <th>Date:</th>              <td>Thu, 19 Mar 2020</td>  <th>  Prob (F-statistic):</th> <td>3.38e-06</td>\n",
       "</tr>\n",
       "<tr>\n",
       "  <th>Time:</th>                  <td>22:58:18</td>      <th>  Log-Likelihood:    </th> <td>  65.736</td>\n",
       "</tr>\n",
       "<tr>\n",
       "  <th>No. Observations:</th>       <td>    30</td>       <th>  AIC:               </th> <td>  -123.5</td>\n",
       "</tr>\n",
       "<tr>\n",
       "  <th>Df Residuals:</th>           <td>    26</td>       <th>  BIC:               </th> <td>  -117.9</td>\n",
       "</tr>\n",
       "<tr>\n",
       "  <th>Df Model:</th>               <td>     3</td>       <th>                     </th>     <td> </td>   \n",
       "</tr>\n",
       "<tr>\n",
       "  <th>Covariance Type:</th>       <td>nonrobust</td>     <th>                     </th>     <td> </td>   \n",
       "</tr>\n",
       "</table>\n",
       "<table class=\"simpletable\">\n",
       "<tr>\n",
       "          <td></td>             <th>coef</th>     <th>std err</th>      <th>t</th>      <th>P>|t|</th>  <th>[0.025</th>    <th>0.975]</th>  \n",
       "</tr>\n",
       "<tr>\n",
       "  <th>Intercept</th>         <td>    0.0061</td> <td>    0.012</td> <td>    0.517</td> <td> 0.610</td> <td>   -0.018</td> <td>    0.031</td>\n",
       "</tr>\n",
       "<tr>\n",
       "  <th>C(Cored_MTG)[T.1]</th> <td>    0.0412</td> <td>    0.016</td> <td>    2.626</td> <td> 0.014</td> <td>    0.009</td> <td>    0.073</td>\n",
       "</tr>\n",
       "<tr>\n",
       "  <th>C(Cored_MTG)[T.2]</th> <td>    0.0865</td> <td>    0.014</td> <td>    6.029</td> <td> 0.000</td> <td>    0.057</td> <td>    0.116</td>\n",
       "</tr>\n",
       "<tr>\n",
       "  <th>C(Cored_MTG)[T.3]</th> <td>    0.1121</td> <td>    0.021</td> <td>    5.457</td> <td> 0.000</td> <td>    0.070</td> <td>    0.154</td>\n",
       "</tr>\n",
       "</table>\n",
       "<table class=\"simpletable\">\n",
       "<tr>\n",
       "  <th>Omnibus:</th>       <td> 0.018</td> <th>  Durbin-Watson:     </th> <td>   1.284</td>\n",
       "</tr>\n",
       "<tr>\n",
       "  <th>Prob(Omnibus):</th> <td> 0.991</td> <th>  Jarque-Bera (JB):  </th> <td>   0.138</td>\n",
       "</tr>\n",
       "<tr>\n",
       "  <th>Skew:</th>          <td> 0.049</td> <th>  Prob(JB):          </th> <td>   0.933</td>\n",
       "</tr>\n",
       "<tr>\n",
       "  <th>Kurtosis:</th>      <td> 2.682</td> <th>  Cond. No.          </th> <td>    5.67</td>\n",
       "</tr>\n",
       "</table><br/><br/>Warnings:<br/>[1] Standard Errors assume that the covariance matrix of the errors is correctly specified."
      ],
      "text/plain": [
       "<class 'statsmodels.iolib.summary.Summary'>\n",
       "\"\"\"\n",
       "                            OLS Regression Results                            \n",
       "==============================================================================\n",
       "Dep. Variable:     tissue_cored_score   R-squared:                       0.655\n",
       "Model:                            OLS   Adj. R-squared:                  0.615\n",
       "Method:                 Least Squares   F-statistic:                     16.45\n",
       "Date:                Thu, 19 Mar 2020   Prob (F-statistic):           3.38e-06\n",
       "Time:                        22:58:18   Log-Likelihood:                 65.736\n",
       "No. Observations:                  30   AIC:                            -123.5\n",
       "Df Residuals:                      26   BIC:                            -117.9\n",
       "Df Model:                           3                                         \n",
       "Covariance Type:            nonrobust                                         \n",
       "=====================================================================================\n",
       "                        coef    std err          t      P>|t|      [0.025      0.975]\n",
       "-------------------------------------------------------------------------------------\n",
       "Intercept             0.0061      0.012      0.517      0.610      -0.018       0.031\n",
       "C(Cored_MTG)[T.1]     0.0412      0.016      2.626      0.014       0.009       0.073\n",
       "C(Cored_MTG)[T.2]     0.0865      0.014      6.029      0.000       0.057       0.116\n",
       "C(Cored_MTG)[T.3]     0.1121      0.021      5.457      0.000       0.070       0.154\n",
       "==============================================================================\n",
       "Omnibus:                        0.018   Durbin-Watson:                   1.284\n",
       "Prob(Omnibus):                  0.991   Jarque-Bera (JB):                0.138\n",
       "Skew:                           0.049   Prob(JB):                        0.933\n",
       "Kurtosis:                       2.682   Cond. No.                         5.67\n",
       "==============================================================================\n",
       "\n",
       "Warnings:\n",
       "[1] Standard Errors assume that the covariance matrix of the errors is correctly specified.\n",
       "\"\"\""
      ]
     },
     "execution_count": 81,
     "metadata": {},
     "output_type": "execute_result"
    }
   ],
   "source": [
    "results = ols('tissue_cored_score ~ C(Cored_MTG)', data=tang_data).fit()\n",
    "results.summary()"
   ]
  },
  {
   "cell_type": "code",
   "execution_count": 72,
   "metadata": {},
   "outputs": [
    {
     "data": {
      "text/html": [
       "<div>\n",
       "<style scoped>\n",
       "    .dataframe tbody tr th:only-of-type {\n",
       "        vertical-align: middle;\n",
       "    }\n",
       "\n",
       "    .dataframe tbody tr th {\n",
       "        vertical-align: top;\n",
       "    }\n",
       "\n",
       "    .dataframe thead th {\n",
       "        text-align: right;\n",
       "    }\n",
       "</style>\n",
       "<table border=\"1\" class=\"dataframe\">\n",
       "  <thead>\n",
       "    <tr style=\"text-align: right;\">\n",
       "      <th></th>\n",
       "      <th>sum_sq</th>\n",
       "      <th>df</th>\n",
       "      <th>F</th>\n",
       "      <th>PR(&gt;F)</th>\n",
       "    </tr>\n",
       "  </thead>\n",
       "  <tbody>\n",
       "    <tr>\n",
       "      <th>C(Cored_MTG)</th>\n",
       "      <td>0.041669</td>\n",
       "      <td>3.0</td>\n",
       "      <td>16.453839</td>\n",
       "      <td>0.000003</td>\n",
       "    </tr>\n",
       "    <tr>\n",
       "      <th>Residual</th>\n",
       "      <td>0.021948</td>\n",
       "      <td>26.0</td>\n",
       "      <td>NaN</td>\n",
       "      <td>NaN</td>\n",
       "    </tr>\n",
       "  </tbody>\n",
       "</table>\n",
       "</div>"
      ],
      "text/plain": [
       "                sum_sq    df          F    PR(>F)\n",
       "C(Cored_MTG)  0.041669   3.0  16.453839  0.000003\n",
       "Residual      0.021948  26.0        NaN       NaN"
      ]
     },
     "execution_count": 72,
     "metadata": {},
     "output_type": "execute_result"
    }
   ],
   "source": [
    "aov_table = sm.stats.anova_lm(results, typ=2)\n",
    "aov_table"
   ]
  },
  {
   "cell_type": "code",
   "execution_count": 82,
   "metadata": {},
   "outputs": [
    {
     "name": "stdout",
     "output_type": "stream",
     "text": [
      "Multiple Comparison of Means - Tukey HSD, FWER=0.05\n",
      "===================================================\n",
      "group1 group2 meandiff p-adj   lower  upper  reject\n",
      "---------------------------------------------------\n",
      "     0      1   0.0384 0.0185  0.0051 0.0718   True\n",
      "     0      2   0.0585  0.001  0.0257 0.0913   True\n",
      "     0      3    0.113  0.001  0.0608 0.1651   True\n",
      "     1      2   0.0201 0.3027 -0.0104 0.0506  False\n",
      "     1      3   0.0745 0.0019  0.0238 0.1253   True\n",
      "     2      3   0.0544 0.0302   0.004 0.1048   True\n",
      "---------------------------------------------------\n"
     ]
    }
   ],
   "source": [
    "from statsmodels.stats.multicomp import pairwise_tukeyhsd\n",
    "from statsmodels.stats.multicomp import MultiComparison\n",
    "\n",
    "mc = MultiComparison(emory_data['tissue_cored_score'], emory_data['Cored_MTG'])\n",
    "mc_results = mc.tukeyhsd()\n",
    "print(mc_results)"
   ]
  },
  {
   "cell_type": "code",
   "execution_count": 83,
   "metadata": {},
   "outputs": [
    {
     "data": {
      "text/plain": [
       "array([0.01851637, 0.001     , 0.001     , 0.30268153, 0.00187439,\n",
       "       0.0301897 ])"
      ]
     },
     "execution_count": 83,
     "metadata": {},
     "output_type": "execute_result"
    }
   ],
   "source": [
    "from statsmodels.stats.libqsturng import psturng\n",
    "import numpy as np\n",
    "\n",
    "psturng(np.abs(mc_results.meandiffs / mc_results.std_pairs), len(mc_results.groupsunique), mc_results.df_total)"
   ]
  }
 ],
 "metadata": {
  "kernelspec": {
   "display_name": "Python 3",
   "language": "python",
   "name": "python3"
  },
  "language_info": {
   "codemirror_mode": {
    "name": "ipython",
    "version": 3
   },
   "file_extension": ".py",
   "mimetype": "text/x-python",
   "name": "python",
   "nbconvert_exporter": "python",
   "pygments_lexer": "ipython3",
   "version": "3.6.8"
  }
 },
 "nbformat": 4,
 "nbformat_minor": 2
}
